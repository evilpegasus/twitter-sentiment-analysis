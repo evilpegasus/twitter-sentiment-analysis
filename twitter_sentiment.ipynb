{
 "metadata": {
  "language_info": {
   "codemirror_mode": {
    "name": "ipython",
    "version": 3
   },
   "file_extension": ".py",
   "mimetype": "text/x-python",
   "name": "python",
   "nbconvert_exporter": "python",
   "pygments_lexer": "ipython3",
   "version": "3.7.6-final"
  },
  "orig_nbformat": 2,
  "kernelspec": {
   "name": "python3",
   "display_name": "Python 3",
   "language": "python"
  }
 },
 "nbformat": 4,
 "nbformat_minor": 2,
 "cells": [
  {
   "source": [
    "# Twitter Sentiment Analysis\n",
    "Ming Fong\n",
    "\n",
    "Linguistics 55AC\n",
    "\n",
    "Useful: https://medium.com/swlh/coronavirus-python-tutorial-1-520cc960aac1"
   ],
   "cell_type": "markdown",
   "metadata": {}
  },
  {
   "cell_type": "code",
   "execution_count": 1,
   "metadata": {},
   "outputs": [],
   "source": [
    "import tweepy #https://github.com/tweepy/tweepy\n",
    "import csv\n",
    "from secrets import *\n",
    "import pandas as pd\n",
    "import numpy as np\n",
    "import re\n",
    "from textblob import TextBlob"
   ]
  },
  {
   "cell_type": "code",
   "execution_count": 2,
   "metadata": {},
   "outputs": [],
   "source": [
    "consumer_key = api_key\n",
    "consumer_secret = api_secret\n",
    "access_key = access_token\n",
    "access_secret = access_secret"
   ]
  },
  {
   "cell_type": "code",
   "execution_count": 3,
   "metadata": {},
   "outputs": [],
   "source": [
    "def get_all_tweets(screen_name):\n",
    "    #Twitter only allows access to a users most recent 3240 tweets with this method\n",
    "    \n",
    "    #authorize twitter, initialize tweepy\n",
    "    auth = tweepy.OAuthHandler(consumer_key, consumer_secret)\n",
    "    auth.set_access_token(access_key, access_secret)\n",
    "    api = tweepy.API(auth)\n",
    "    \n",
    "    #initialize a list to hold all the tweepy Tweets\n",
    "    alltweets = []  \n",
    "    \n",
    "    #make initial request for most recent tweets (200 is the maximum allowed count)\n",
    "    new_tweets = api.user_timeline(screen_name = screen_name, count = 200)\n",
    "    \n",
    "    #save most recent tweets\n",
    "    alltweets.extend(new_tweets)\n",
    "    \n",
    "    #save the id of the oldest tweet less one\n",
    "    oldest = alltweets[-1].id - 1\n",
    "    \n",
    "    #keep grabbing tweets until there are no tweets left to grab\n",
    "    while len(new_tweets) > 0:\n",
    "        print(f\"getting tweets before {oldest}\")\n",
    "        \n",
    "        #all subsiquent requests use the max_id param to prevent duplicates\n",
    "        new_tweets = api.user_timeline(screen_name = screen_name, count=200, max_id = oldest)\n",
    "        \n",
    "        #save most recent tweets\n",
    "        alltweets.extend(new_tweets)\n",
    "        \n",
    "        #update the id of the oldest tweet less one\n",
    "        oldest = alltweets[-1].id - 1\n",
    "        \n",
    "        print(f\"...{len(alltweets)} tweets downloaded so far\")\n",
    "    \n",
    "    #transform the tweepy tweets into a 2D array that will populate the csv \n",
    "    outtweets = [[tweet.id_str, tweet.created_at, tweet.text] for tweet in alltweets]\n",
    "    \n",
    "    #write the csv  \n",
    "    # with open(f'data/{screen_name}_tweets.csv', 'w') as f:\n",
    "    #     writer = csv.writer(f)\n",
    "    #     writer.writerow([\"id\",\"created_at\",\"text\"])\n",
    "    #     writer.writerows(outtweets)\n",
    "    \n",
    "    return outtweets\n"
   ]
  },
  {
   "cell_type": "code",
   "execution_count": 4,
   "metadata": {},
   "outputs": [
    {
     "output_type": "stream",
     "name": "stdout",
     "text": [
      "getting tweets before 1335032599283109889\n",
      "...400 tweets downloaded so far\n",
      "getting tweets before 1332173996134195201\n",
      "...599 tweets downloaded so far\n",
      "getting tweets before 1329298668403499008\n",
      "...798 tweets downloaded so far\n",
      "getting tweets before 1327319294057848831\n",
      "...997 tweets downloaded so far\n",
      "getting tweets before 1324541519873847295\n",
      "...1197 tweets downloaded so far\n",
      "getting tweets before 1322746973443760127\n",
      "...1397 tweets downloaded so far\n",
      "getting tweets before 1321414554346160129\n",
      "...1597 tweets downloaded so far\n",
      "getting tweets before 1320224763491602432\n",
      "...1797 tweets downloaded so far\n",
      "getting tweets before 1318270451882192898\n",
      "...1995 tweets downloaded so far\n",
      "getting tweets before 1316711285871042561\n",
      "...2192 tweets downloaded so far\n",
      "getting tweets before 1315663084791435263\n",
      "...2392 tweets downloaded so far\n",
      "getting tweets before 1313842652731838463\n",
      "...2590 tweets downloaded so far\n",
      "getting tweets before 1311512518800470015\n",
      "...2790 tweets downloaded so far\n",
      "getting tweets before 1310027981713072127\n",
      "...2990 tweets downloaded so far\n",
      "getting tweets before 1308248522312085503\n",
      "...3187 tweets downloaded so far\n",
      "getting tweets before 1305900664971763711\n",
      "...3217 tweets downloaded so far\n",
      "getting tweets before 1305613921772908543\n",
      "...3217 tweets downloaded so far\n"
     ]
    }
   ],
   "source": [
    "df = pd.DataFrame(get_all_tweets(\"realDonaldTrump\"))"
   ]
  },
  {
   "cell_type": "code",
   "execution_count": 5,
   "metadata": {},
   "outputs": [],
   "source": [
    "# Remove links\n",
    "df[2] = [re.sub(r'http\\S+', '', str(x)) for x in df[2]]\n",
    "# Remove Retweets\n",
    "df = df[~df[2].str.startswith(\"RT @\")]\n",
    "df[2] = df[2].replace(\"\", np.nan)\n",
    "df = df.dropna(subset = [2])"
   ]
  },
  {
   "cell_type": "code",
   "execution_count": 7,
   "metadata": {},
   "outputs": [
    {
     "output_type": "execute_result",
     "data": {
      "text/plain": [
       "                      0                   1  \\\n",
       "3   1337526606445809665 2020-12-11 22:36:07   \n",
       "4   1337494507756072961 2020-12-11 20:28:34   \n",
       "5   1337494429221916674 2020-12-11 20:28:16   \n",
       "8   1337420100375339010 2020-12-11 15:32:54   \n",
       "9   1337400706551123969 2020-12-11 14:15:50   \n",
       "10  1337385736530780161 2020-12-11 13:16:21   \n",
       "11  1337379719872974852 2020-12-11 12:52:27   \n",
       "12  1337373146652020736 2020-12-11 12:26:20   \n",
       "13  1337372201662746625 2020-12-11 12:22:34   \n",
       "14  1337369403638362114 2020-12-11 12:11:27   \n",
       "15  1337363864565010435 2020-12-11 11:49:26   \n",
       "22  1337220913528532992 2020-12-11 02:21:24   \n",
       "23  1337202242290671617 2020-12-11 01:07:13   \n",
       "24  1337195587771510784 2020-12-11 00:40:46   \n",
       "25  1337195257776238592 2020-12-11 00:39:27   \n",
       "26  1337193947941249026 2020-12-11 00:34:15   \n",
       "30  1337067127455539201 2020-12-10 16:10:19   \n",
       "31  1337067073051238400 2020-12-10 16:10:06   \n",
       "32  1337067019385057290 2020-12-10 16:09:53   \n",
       "39  1337052585547755523 2020-12-10 15:12:32   \n",
       "\n",
       "                                                    2  \n",
       "3   Georgia, where is signature verification appro...  \n",
       "4   If the Supreme Court shows great Wisdom and Co...  \n",
       "5   If the two Senators from Georgia should lose, ...  \n",
       "8   “Donald Trump must get the credit for the vacc...  \n",
       "9   Now it turns out that the Democrats want the P...  \n",
       "10  Now that the Biden Administration will be a sc...  \n",
       "11  Now it turns out that my phone call to the Pre...  \n",
       "12  I just want to stop the world from killing its...  \n",
       "13  The Swine Flu (H1N1), and the attempt for a va...  \n",
       "14  While my pushing the money drenched but heavil...  \n",
       "15  No war with North Korea, tamed fighting in Idl...  \n",
       "22  Why didn’t the Fake News Media, the FBI and th...  \n",
       "23  Tremendous support from all over the Country. ...  \n",
       "24  19 states are fighting for us, almost unheard ...  \n",
       "25  No Presidential candidate ever came even close...  \n",
       "26                             So true, a must read!   \n",
       "30  Morocco recognized the United States in 1777. ...  \n",
       "31  Another HISTORIC breakthrough today! Our two G...  \n",
       "32  Today, I signed a proclamation recognizing Mor...  \n",
       "39  Great. Most corrupt Election in history, by fa...  "
      ],
      "text/html": "<div>\n<style scoped>\n    .dataframe tbody tr th:only-of-type {\n        vertical-align: middle;\n    }\n\n    .dataframe tbody tr th {\n        vertical-align: top;\n    }\n\n    .dataframe thead th {\n        text-align: right;\n    }\n</style>\n<table border=\"1\" class=\"dataframe\">\n  <thead>\n    <tr style=\"text-align: right;\">\n      <th></th>\n      <th>0</th>\n      <th>1</th>\n      <th>2</th>\n    </tr>\n  </thead>\n  <tbody>\n    <tr>\n      <th>3</th>\n      <td>1337526606445809665</td>\n      <td>2020-12-11 22:36:07</td>\n      <td>Georgia, where is signature verification appro...</td>\n    </tr>\n    <tr>\n      <th>4</th>\n      <td>1337494507756072961</td>\n      <td>2020-12-11 20:28:34</td>\n      <td>If the Supreme Court shows great Wisdom and Co...</td>\n    </tr>\n    <tr>\n      <th>5</th>\n      <td>1337494429221916674</td>\n      <td>2020-12-11 20:28:16</td>\n      <td>If the two Senators from Georgia should lose, ...</td>\n    </tr>\n    <tr>\n      <th>8</th>\n      <td>1337420100375339010</td>\n      <td>2020-12-11 15:32:54</td>\n      <td>“Donald Trump must get the credit for the vacc...</td>\n    </tr>\n    <tr>\n      <th>9</th>\n      <td>1337400706551123969</td>\n      <td>2020-12-11 14:15:50</td>\n      <td>Now it turns out that the Democrats want the P...</td>\n    </tr>\n    <tr>\n      <th>10</th>\n      <td>1337385736530780161</td>\n      <td>2020-12-11 13:16:21</td>\n      <td>Now that the Biden Administration will be a sc...</td>\n    </tr>\n    <tr>\n      <th>11</th>\n      <td>1337379719872974852</td>\n      <td>2020-12-11 12:52:27</td>\n      <td>Now it turns out that my phone call to the Pre...</td>\n    </tr>\n    <tr>\n      <th>12</th>\n      <td>1337373146652020736</td>\n      <td>2020-12-11 12:26:20</td>\n      <td>I just want to stop the world from killing its...</td>\n    </tr>\n    <tr>\n      <th>13</th>\n      <td>1337372201662746625</td>\n      <td>2020-12-11 12:22:34</td>\n      <td>The Swine Flu (H1N1), and the attempt for a va...</td>\n    </tr>\n    <tr>\n      <th>14</th>\n      <td>1337369403638362114</td>\n      <td>2020-12-11 12:11:27</td>\n      <td>While my pushing the money drenched but heavil...</td>\n    </tr>\n    <tr>\n      <th>15</th>\n      <td>1337363864565010435</td>\n      <td>2020-12-11 11:49:26</td>\n      <td>No war with North Korea, tamed fighting in Idl...</td>\n    </tr>\n    <tr>\n      <th>22</th>\n      <td>1337220913528532992</td>\n      <td>2020-12-11 02:21:24</td>\n      <td>Why didn’t the Fake News Media, the FBI and th...</td>\n    </tr>\n    <tr>\n      <th>23</th>\n      <td>1337202242290671617</td>\n      <td>2020-12-11 01:07:13</td>\n      <td>Tremendous support from all over the Country. ...</td>\n    </tr>\n    <tr>\n      <th>24</th>\n      <td>1337195587771510784</td>\n      <td>2020-12-11 00:40:46</td>\n      <td>19 states are fighting for us, almost unheard ...</td>\n    </tr>\n    <tr>\n      <th>25</th>\n      <td>1337195257776238592</td>\n      <td>2020-12-11 00:39:27</td>\n      <td>No Presidential candidate ever came even close...</td>\n    </tr>\n    <tr>\n      <th>26</th>\n      <td>1337193947941249026</td>\n      <td>2020-12-11 00:34:15</td>\n      <td>So true, a must read!</td>\n    </tr>\n    <tr>\n      <th>30</th>\n      <td>1337067127455539201</td>\n      <td>2020-12-10 16:10:19</td>\n      <td>Morocco recognized the United States in 1777. ...</td>\n    </tr>\n    <tr>\n      <th>31</th>\n      <td>1337067073051238400</td>\n      <td>2020-12-10 16:10:06</td>\n      <td>Another HISTORIC breakthrough today! Our two G...</td>\n    </tr>\n    <tr>\n      <th>32</th>\n      <td>1337067019385057290</td>\n      <td>2020-12-10 16:09:53</td>\n      <td>Today, I signed a proclamation recognizing Mor...</td>\n    </tr>\n    <tr>\n      <th>39</th>\n      <td>1337052585547755523</td>\n      <td>2020-12-10 15:12:32</td>\n      <td>Great. Most corrupt Election in history, by fa...</td>\n    </tr>\n  </tbody>\n</table>\n</div>"
     },
     "metadata": {},
     "execution_count": 7
    }
   ],
   "source": [
    "df.head(20)"
   ]
  },
  {
   "cell_type": "code",
   "execution_count": null,
   "metadata": {},
   "outputs": [],
   "source": []
  }
 ]
}